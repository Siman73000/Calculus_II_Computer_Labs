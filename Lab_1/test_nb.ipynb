{
 "cells": [
  {
   "cell_type": "markdown",
   "id": "383cf9ab",
   "metadata": {},
   "source": [
    "<div style=\"display: flex; justify-content: space-between; align-items: center; border-bottom: 2px solid black; padding-bottom: 1em; font-family: 'Courier New', Courier, monospace;\">\n",
    "    <h3 style=\"margin-top: 1em;\">Calc/Analytic Geom II</h3>\n",
    "    <h3 style=\"text-align: center;\">Computer Lab #1</h3>\n",
    "    <h3 style=\"justify-content: center; margin-right: 2em;\">Simon Hamilton</h3>\n",
    "</div>"
   ]
  },
  {
   "cell_type": "markdown",
   "id": "890607b0",
   "metadata": {},
   "source": [
    "<p style=\"font-family: 'Courier New', Courier, monospace;\">Personal Favorite Function: <math xmlns=\"http://www.w3.org/1998/Math/MathML\" display=\"flex\">\n",
    "    <mi>log</mi>\n",
    "    <mo>(</mo>\n",
    "    <mi>x</mi>\n",
    "    <mo>)</mo>\n",
    "    </math></p>\n",
    "\n",
    "<img src=\"https://t4.ftcdn.net/jpg/00/34/64/97/360_F_34649707_uoKRAztDr20o975ncHrXpXASexOc57Yp.jpg\" \n",
    "     alt=\"Calc_Image\" \n",
    "     style=\"float: right; border: 2px solid black; width: 500px; height: 300px; margin-left: 1em; margin-right: 5em; margin-top: -2em;\">\n",
    "\n",
    "<p style=\"font-size: 0.9em; overflow-wrap: normal; font-family: 'Courier New', Courier, monospace;\">\n",
    "  I enjoy this function because it is exceptionally useful in a Computer Science context. Specifically, it is used extensively in \"Big O\" notation. O notation describes the time complexity of a given program. For example, an instantaneous computation would result in a time of O(n) whereas O(log(n)) works by doubling the input size which adds a constant number of extra steps. In a mathematical context, it is essentially the inverse of an exponential. Calculus utilizes logarithms in many forms such as continuous growth (CG problems usually use natural logarithms which is simply \n",
    "  <math xmlns=\"http://www.w3.org/1998/Math/MathML\">\n",
    "    <msub>\n",
    "        <mi>log</mi>\n",
    "        <mi>e</mi>\n",
    "    </msub>\n",
    "    <mo>(</mo>\n",
    "    <mi>x</mi>\n",
    "    <mo>)</mo>\n",
    "  </math>).\n",
    "</p>\n"
   ]
  },
  {
   "cell_type": "markdown",
   "id": "3398428e",
   "metadata": {},
   "source": [
    "<div>\n",
    "    <p style=\"border-top: 2px solid black; padding-top: 2em; font-family: 'Courier New', Courier, monospace;\">This program starts by defining a function to return f(x).\n",
    "x here is defined as a linspace so pyplot knows how to handle the graphing.\n",
    "Then, y is set to our function f with x being passed to it.\n",
    "The bounds from 0 to 1 being stored in a mutable array.\n",
    "The colors for the points plotted are stored in an array just for ease of use when calling that in scatter without having multiple variables.\n",
    "Our for loop, as expected, loops through the indicies of bounds (which are conveniently the same as the values i.e. bounds[0] == 0 and bounds[1] == 1) and passes\n",
    "that through to the previously defined f function.\n",
    "Then pyplot plots everything. This is all performed for the given function:\n",
    "    <math xmlns=\"http://www.w3.org/1998/Math/MathML\" display=\"block\">\n",
    "    <mi>f</mi>\n",
    "    <mo>(</mo>\n",
    "    <mi>x</mi>\n",
    "    <mo>)</mo>\n",
    "    <mo>=</mo>\n",
    "    <mfrac>\n",
    "        <mn>1</mn>\n",
    "        <msqrt>\n",
    "        <mrow>\n",
    "            <mn>6</mn>\n",
    "            <mi>x</mi>\n",
    "            <mo>+</mo>\n",
    "            <mn>1</mn>\n",
    "        </mrow>\n",
    "        </msqrt>\n",
    "    </mfrac>\n",
    "    </math></p>\n",
    "</div>"
   ]
  },
  {
   "cell_type": "code",
   "execution_count": 1,
   "id": "c3a9a786",
   "metadata": {},
   "outputs": [
    {
     "data": {
      "image/png": "[encoded data removed]",
      "text/plain": [
       "<Figure size 640x480 with 1 Axes>"
      ]
     },
     "metadata": {},
     "output_type": "display_data"
    }
   ],
   "source": [
    "import matplotlib.pyplot as plt\n",
    "import numpy as np\n",
    "\n",
    "a = 6\n",
    "\n",
    "def f(x):\n",
    "    return 1 / np.sqrt(a * x + 1)\n",
    "\n",
    "x = np.linspace(0.1, 10, 400)\n",
    "y = f(x)\n",
    "\n",
    "bounds = [0, 1]\n",
    "colors = [\"red\", \"green\"]\n",
    "\n",
    "plt.plot(x, y, label=\"f(x)\")\n",
    "\n",
    "for i in range(len(bounds)):\n",
    "    xi = bounds[i]\n",
    "    yi = f(xi)\n",
    "    plt.scatter(xi, yi, color=colors[i], zorder=5)\n",
    "    plt.text(xi, yi, f'({xi:.1f}, {yi:.3f})', fontsize=9, ha=\"left\", va=\"bottom\")\n",
    "\n",
    "plt.xlabel(\"x-axis\")\n",
    "plt.ylabel(\"y-axis\")\n",
    "plt.grid(True)\n",
    "plt.legend()\n",
    "plt.show()"
   ]
  },
  {
   "cell_type": "markdown",
   "id": "95c44626",
   "metadata": {},
   "source": [
    "<div>\n",
    "    <p style=\"font-family: 'Courier New', Courier, monospace; margin-top: 2em;\">This computes the derivative of <math xmlns=\"http://www.w3.org/1998/Math/MathML\">\n",
    "    <math>\n",
    "        <mi>log</mi>\n",
    "        <mo>(</mo>\n",
    "        <mi>x</mi>\n",
    "        <mo>)</mo>\n",
    "    </math></p>\n",
    "</div>"
   ]
  },
  {
   "cell_type": "code",
   "execution_count": null,
   "id": "eb4c078d",
   "metadata": {},
   "outputs": [],
   "source": [
    "from sympy import *\n",
    "\n",
    "class Derivative:\n",
    "    def __init__(self, function, variable):\n",
    "        self.function = function\n",
    "        self.variable = variable\n",
    "\n",
    "    def compute(self):\n",
    "        return diff(self.function, self.variable)\n",
    "\n",
    "x = symbols('x')\n",
    "log_function = log(x)\n",
    "derivative = Derivative(log_function, x)\n",
    "print(f'The derivative of log(x) is: {derivative.compute()}')\n"
   ]
  },
  {
   "cell_type": "markdown",
   "id": "48094a9c",
   "metadata": {},
   "source": [
    "<div>\n",
    "    <p style=\"font-family: 'Courier New', Courier, monospace; margin-top: 2em;\">This computes the integral of     <math>\n",
    "        <mi>log</mi>\n",
    "        <mo>(</mo>\n",
    "        <mi>x</mi>\n",
    "        <mo>)</mo>\n",
    "    </math></p>\n",
    "</div>"
   ]
  },
  {
   "cell_type": "code",
   "execution_count": null,
   "id": "e38c733b",
   "metadata": {},
   "outputs": [],
   "source": [
    "class Integral:\n",
    "    def __init__(self, function, variable):\n",
    "        self.function = function\n",
    "        self.variable = variable\n",
    "    def findInt(self):\n",
    "        return integrate(self.function, self.variable)\n",
    "\n",
    "integral = Integral(log_function, x)\n",
    "print(f'The integral of log(x) is: {integral.findInt()}')"
   ]
  },
  {
   "cell_type": "markdown",
   "id": "a09ef660",
   "metadata": {},
   "source": [
    "<div>\n",
    "    <p style=\"font-family: 'Courier New', Courier, monospace; margin-top: 2em;\">For fun, here's a short program that will take any function and return its first derivative, integral, and graph them.</p>\n",
    "</div>"
   ]
  },
  {
   "cell_type": "code",
   "execution_count": null,
   "id": "ace3e0db",
   "metadata": {},
   "outputs": [],
   "source": [
    "from sympy import *\n",
    "import matplotlib.pyplot as plt\n",
    "import numpy as np\n",
    "\n",
    "class ComputeCalc:\n",
    "    def __init__(self, function_str, variable_str):\n",
    "        self.variable = symbols(variable_str)\n",
    "        self.function = sympify(function_str)\n",
    "    \n",
    "    def callDer(self):\n",
    "        return diff(self.function, self.variable)\n",
    "    \n",
    "    def callInt(self):\n",
    "        return integrate(self.function, self.variable)\n",
    "    \n",
    "    def plot_func(self, expr, x_range=(0.0001, 10), label=None):\n",
    "        x_vals = np.linspace(x_range[0], x_range[1], 400)\n",
    "        func = lambdify(self.variable, expr, 'numpy')\n",
    "        y_vals = func(x_vals)\n",
    "        plt.plot(x_vals, y_vals, label=label if label else str(expr))\n",
    "        plt.xlabel(\"X-Axis\")\n",
    "        plt.ylabel(\"Y-Axis\")\n",
    "        plt.title(\"Plotter\")\n",
    "        plt.grid(True)\n",
    "        plt.legend()\n",
    "        plt.show()\n",
    "\n",
    "\n",
    "func_str = input(\"Enter a function (e.g., 'log(x)-sin(x)'): \")\n",
    "\n",
    "expr = sympify(func_str)\n",
    "vars_in_expr = list(expr.free_symbols)\n",
    "\n",
    "if len(vars_in_expr) != 1:\n",
    "    raise ValueError(\"Enter a function with only one variable.\")\n",
    "\n",
    "x = vars_in_expr[0]\n",
    "calc = ComputeCalc(func_str, str(x))\n",
    "\n",
    "print(f\"The derivative of {func_str} is: {calc.callDer()}\")\n",
    "print(f\"The integral of {func_str} is: {calc.callInt()}\")\n",
    "\n",
    "calc.plot_func(calc.callDer(), label=f\"Derivative of {func_str}\")\n",
    "calc.plot_func(calc.callInt(), label=f\"Integral of {func_str}\")\n"
   ]
  }
 ],
 "metadata": {
  "kernelspec": {
   "display_name": "Python 3",
   "language": "python",
   "name": "python3"
  },
  "language_info": {
   "codemirror_mode": {
    "name": "ipython",
    "version": 3
   },
   "file_extension": ".py",
   "mimetype": "text/x-python",
   "name": "python",
   "nbconvert_exporter": "python",
   "pygments_lexer": "ipython3",
   "version": "3.13.3"
  }
 },
 "nbformat": 4,
 "nbformat_minor": 5
}

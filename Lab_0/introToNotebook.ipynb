{
  "cells": [
    {
      "cell_type": "markdown",
      "id": "383cf9ab",
      "metadata": {
        "id": "383cf9ab"
      },
      "source": [
        "<div style=\"display: flex; justify-content: space-between; align-items: center; border-bottom: 2px solid black; padding-bottom: 1em; font-family: 'Courier New', Courier, monospace;\">\n",
        "    <h3 style=\"margin-top: 1em;\">Calc/Analytic Geom II</h3>\n",
        "    <h3 style=\"text-align: center;\">Computer Lab #0</h3>\n",
        "    <h3 style=\"justify-content: center; margin-right: 2em;\">Simon Hamilton</h3>\n",
        "</div>"
      ]
    },
    {
      "cell_type": "markdown",
      "id": "890607b0",
      "metadata": {
        "id": "890607b0"
      },
      "source": [
        "<script src='https://cdnjs.cloudflare.com/ajax/libs/mathjax/2.7.4/MathJax.js?config=default'></script>\n",
        "\n",
        "<p style=\"font-family: 'Courier New', Courier, monospace;\">Personal Favorite Function: $ {\\log(x)} $</p>\n",
        "\n",
        "\n",
        "\n",
        "<p style=\"font-size: 0.9em; overflow-wrap: normal; font-family: 'Courier New', Courier, monospace;\">\n",
        "  I enjoy this function because it is exceptionally useful in a Computer Science context. Specifically, it is used extensively in \"Big ${O}$\" notation. ${O}$ notation describes the time complexity of a given program. For example, an instantaneous computation would result in a time of ${O(n)}$ whereas ${O(\\log(n))}$ works by doubling the input size which adds a constant number of extra steps. In a mathematical context, it is essentially the inverse of an exponential. Calculus utilizes logarithms in many forms such as continuous growth. CG problems usually use natural logarithms which is simply: $ {\\log(x)} $\n",
        "</p>\n"
      ]
    },
    {
      "cell_type": "markdown",
      "id": "3398428e",
      "metadata": {
        "id": "3398428e"
      },
      "source": [
        "<script src='https://cdnjs.cloudflare.com/ajax/libs/mathjax/2.7.4/MathJax.js?config=default'></script>\n",
        "<p style=\"border-top: 2px solid black; padding-top: 2em; font-family: 'Courier New', Courier, monospace;\">\n",
        "Python code to graph ${\\log(x)}$\n",
        "</p>"
      ]
    },
    {
      "cell_type": "code",
      "execution_count": null,
      "id": "c3a9a786",
      "metadata": {
        "id": "c3a9a786"
      },
      "outputs": [],
      "source": [
        "import matplotlib.pyplot as plt\n",
        "import numpy as np\n",
        "\n",
        "def plot_logorithm(x, y):\n",
        "    plt.plot(x, y, label='log(x)')\n",
        "    plt.xlabel(\"X-Axis\")\n",
        "    plt.ylabel(\"Y-Axis\")\n",
        "    plt.title(\"Logorithm Plot\")\n",
        "    plt.grid(True)\n",
        "    plt.legend()\n",
        "    plt.show()\n",
        "\n",
        "x = np.linspace(0.1, 10, 400)\n",
        "y = np.log(x)\n",
        "plot_logorithm(x, y)"
      ]
    },
    {
      "cell_type": "markdown",
      "id": "95c44626",
      "metadata": {
        "id": "95c44626"
      },
      "source": [
        "<script src='https://cdnjs.cloudflare.com/ajax/libs/mathjax/2.7.4/MathJax.js?config=default'></script>\n",
        "\n",
        "<p style=\"font-family: 'Courier New', Courier, monospace; margin-top: 2em;\">This computes the derivative of ${\\log(x)}$\n",
        "</p>\n"
      ]
    },
    {
      "cell_type": "code",
      "execution_count": null,
      "id": "eb4c078d",
      "metadata": {
        "id": "eb4c078d"
      },
      "outputs": [],
      "source": [
        "from sympy import *\n",
        "\n",
        "class Derivative:\n",
        "    def __init__(self, function, variable):\n",
        "        self.function = function\n",
        "        self.variable = variable\n",
        "\n",
        "    def compute(self):\n",
        "        return diff(self.function, self.variable)\n",
        "\n",
        "x = symbols('x')\n",
        "log_function = log(x)\n",
        "derivative = Derivative(log_function, x)\n",
        "print(f'The derivative of log(x) is: {derivative.compute()}')\n"
      ]
    },
    {
      "cell_type": "markdown",
      "id": "48094a9c",
      "metadata": {
        "id": "48094a9c"
      },
      "source": [
        "<p style=\"font-family: 'Courier New', Courier, monospace; margin-top: 2em;\">This computes the integral of ${\\log(x)}$</p>"
      ]
    },
    {
      "cell_type": "code",
      "execution_count": null,
      "id": "e38c733b",
      "metadata": {
        "id": "e38c733b"
      },
      "outputs": [],
      "source": [
        "class Integral:\n",
        "    def __init__(self, function, variable):\n",
        "        self.function = function\n",
        "        self.variable = variable\n",
        "    def findInt(self):\n",
        "        return integrate(self.function, self.variable)\n",
        "\n",
        "integral = Integral(log_function, x)\n",
        "print(f'The integral of log(x) is: {integral.findInt()}')"
      ]
    },
    {
      "cell_type": "markdown",
      "id": "a09ef660",
      "metadata": {
        "id": "a09ef660"
      },
      "source": [
        "<p style=\"font-family: 'Courier New', Courier, monospace; margin-top: 2em;\">For fun, here's a short program that will take any function and return its first derivative, integral, and graph them.</p>"
      ]
    },
    {
      "cell_type": "code",
      "execution_count": null,
      "id": "ace3e0db",
      "metadata": {
        "id": "ace3e0db"
      },
      "outputs": [],
      "source": [
        "from sympy import *\n",
        "import matplotlib.pyplot as plt\n",
        "import numpy as np\n",
        "\n",
        "class ComputeCalc:\n",
        "    def __init__(self, function_str, variable_str):\n",
        "        self.variable = symbols(variable_str)\n",
        "        self.function = sympify(function_str)\n",
        "\n",
        "    def callDer(self):\n",
        "        return diff(self.function, self.variable)\n",
        "\n",
        "    def callInt(self):\n",
        "        return integrate(self.function, self.variable)\n",
        "\n",
        "    def plot_func(self, expr, x_range=(0.0001, 10), label=None):\n",
        "        x_vals = np.linspace(x_range[0], x_range[1], 400)\n",
        "        func = lambdify(self.variable, expr, 'numpy')\n",
        "        y_vals = func(x_vals)\n",
        "        plt.plot(x_vals, y_vals, label=label if label else str(expr))\n",
        "        plt.xlabel(\"X-Axis\")\n",
        "        plt.ylabel(\"Y-Axis\")\n",
        "        plt.title(\"Plotter\")\n",
        "        plt.grid(True)\n",
        "        plt.legend()\n",
        "        plt.show()\n",
        "\n",
        "\n",
        "func_str = input(\"Enter a function (e.g., 'log(x)-sin(x)'): \")\n",
        "\n",
        "expr = sympify(func_str)\n",
        "vars_in_expr = list(expr.free_symbols)\n",
        "\n",
        "if len(vars_in_expr) != 1:\n",
        "    raise ValueError(\"Enter a function with only one variable.\")\n",
        "\n",
        "x = vars_in_expr[0]\n",
        "calc = ComputeCalc(func_str, str(x))\n",
        "\n",
        "print(f\"The derivative of {func_str} is: {calc.callDer()}\")\n",
        "print(f\"The integral of {func_str} is: {calc.callInt()}\")\n",
        "\n",
        "calc.plot_func(calc.callDer(), label=f\"Derivative of {func_str}\")\n",
        "calc.plot_func(calc.callInt(), label=f\"Integral of {func_str}\")\n"
      ]
    }
  ],
  "metadata": {
    "kernelspec": {
      "display_name": "Python 3",
      "language": "python",
      "name": "python3"
    },
    "language_info": {
      "codemirror_mode": {
        "name": "ipython",
        "version": 3
      },
      "file_extension": ".py",
      "mimetype": "text/x-python",
      "name": "python",
      "nbconvert_exporter": "python",
      "pygments_lexer": "ipython3",
      "version": "3.13.3"
    },
    "colab": {
      "provenance": []
    }
  },
  "nbformat": 4,
  "nbformat_minor": 5
}
{
 "cells": [
  {
   "cell_type": "markdown",
   "id": "383cf9ab",
   "metadata": {},
   "source": [
    "<div style=\"display: flex; justify-content: space-between; align-items: center; border-bottom: 2px solid black; padding-bottom: 1em; font-family: 'Courier New', Courier, monospace;\">\n",
    "    <h3 style=\"margin-top: 1em;\">Calc/Analytic Geom II</h3>\n",
    "    <h3 style=\"text-align: center;\">Computer Lab #0</h3>\n",
    "    <h3 style=\"justify-content: center; margin-right: 2em;\">Simon Hamilton</h3>\n",
    "</div>"
   ]
  },
  {
   "cell_type": "markdown",
   "id": "890607b0",
   "metadata": {},
   "source": [
    "<p style=\"font-family: 'Courier New', Courier, monospace;\">Personal Favorite Function: <math xmlns=\"http://www.w3.org/1998/Math/MathML\" display=\"flex\">\n",
    "    <mi>log</mi>\n",
    "    <mo>(</mo>\n",
    "    <mi>x</mi>\n",
    "    <mo>)</mo>\n",
    "    </math></p>\n",
    "\n",
    "<img src=\"https://www.thoughtco.com/thmb/irSi_hwriBZL3QbGsCiiNsgaSWI=/1500x0/filters:no_upscale():max_bytes(150000):strip_icc()/calculus-on-blackboard-79338340-5be4695946e0fb0026d6856f.jpg\" \n",
    "     alt=\"Calc_Image\" \n",
    "     style=\"float: right; border: 2px solid black; width: 500px; height: 300px; margin-left: 1em; margin-right: 5em; margin-top: -2em;\">\n",
    "\n",
    "<p style=\"font-size: 0.9em; overflow-wrap: normal; font-family: 'Courier New', Courier, monospace;\">\n",
    "  I enjoy this function because it is exceptionally useful in a Computer Science context. Specifically, it is used extensively in \"Big O\" notation. O notation describes the time complexity of a given program. For example, an instantaneous computation would result in a time of O(n) whereas O(log(n)) works by doubling the input size which adds a constant number of extra steps. In a mathematical context, it is essentially the inverse of an exponential. Calculus utilizes logarithms in many forms such as continuous growth (CG problems usually use natural logarithms which is simply \n",
    "  <math xmlns=\"http://www.w3.org/1998/Math/MathML\">\n",
    "    <msub>\n",
    "        <mi>log</mi>\n",
    "        <mi>e</mi>\n",
    "    </msub>\n",
    "    <mo>(</mo>\n",
    "    <mi>x</mi>\n",
    "    <mo>)</mo>\n",
    "  </math>).\n",
    "</p>\n"
   ]
  },
  {
   "cell_type": "markdown",
   "id": "3398428e",
   "metadata": {},
   "source": [
    "<div>\n",
    "    <p style=\"border-top: 2px solid black; padding-top: 2em; font-family: 'Courier New', Courier, monospace;\">Python code to graph\n",
    "    <math xmlns=\"http://www.w3.org/1998/Math/MathML\" display=\"flex\">\n",
    "    <mi>log</mi>\n",
    "    <mo>(</mo>\n",
    "    <mi>x</mi>\n",
    "    <mo>)</mo>\n",
    "    </math>.</p>\n",
    "</div>"
   ]
  },
  {
   "cell_type": "code",
   "execution_count": null,
   "id": "c3a9a786",
   "metadata": {},
   "outputs": [],
   "source": [
    "import matplotlib.pyplot as plt\n",
    "import numpy as np\n",
    "\n",
    "def plot_logorithm(x, y):\n",
    "    plt.plot(x, y, label='log(x)')\n",
    "    plt.xlabel(\"X-Axis\")\n",
    "    plt.ylabel(\"Y-Axis\")\n",
    "    plt.title(\"Logorithm Plot\")\n",
    "    plt.grid(True)\n",
    "    plt.legend()\n",
    "    plt.show()\n",
    "\n",
    "x = np.linspace(0.1, 10, 400)\n",
    "y = np.log(x)\n",
    "plot_logorithm(x, y)"
   ]
  },
  {
   "cell_type": "markdown",
   "id": "95c44626",
   "metadata": {},
   "source": [
    "<div>\n",
    "    <p style=\"font-family: 'Courier New', Courier, monospace; margin-top: 2em;\">This computes the derivative of <math xmlns=\"http://www.w3.org/1998/Math/MathML\">\n",
    "    <math>\n",
    "        <mi>log</mi>\n",
    "        <mo>(</mo>\n",
    "        <mi>x</mi>\n",
    "        <mo>)</mo>\n",
    "    </math></p>\n",
    "</div>"
   ]
  },
  {
   "cell_type": "code",
   "execution_count": null,
   "id": "eb4c078d",
   "metadata": {},
   "outputs": [],
   "source": [
    "from sympy import *\n",
    "\n",
    "class Derivative:\n",
    "    def __init__(self, function, variable):\n",
    "        self.function = function\n",
    "        self.variable = variable\n",
    "\n",
    "    def compute(self):\n",
    "        return diff(self.function, self.variable)\n",
    "\n",
    "x = symbols('x')\n",
    "log_function = log(x)\n",
    "derivative = Derivative(log_function, x)\n",
    "print(f'The derivative of log(x) is: {derivative.compute()}')\n"
   ]
  },
  {
   "cell_type": "markdown",
   "id": "48094a9c",
   "metadata": {},
   "source": [
    "<div>\n",
    "    <p style=\"font-family: 'Courier New', Courier, monospace; margin-top: 2em;\">This computes the integral of     <math>\n",
    "        <mi>log</mi>\n",
    "        <mo>(</mo>\n",
    "        <mi>x</mi>\n",
    "        <mo>)</mo>\n",
    "    </math></p>\n",
    "</div>"
   ]
  },
  {
   "cell_type": "code",
   "execution_count": null,
   "id": "e38c733b",
   "metadata": {},
   "outputs": [],
   "source": [
    "class Integral:\n",
    "    def __init__(self, function, variable):\n",
    "        self.function = function\n",
    "        self.variable = variable\n",
    "    def findInt(self):\n",
    "        return integrate(self.function, self.variable)\n",
    "\n",
    "integral = Integral(log_function, x)\n",
    "print(f'The integral of log(x) is: {integral.findInt()}')"
   ]
  },
  {
   "cell_type": "markdown",
   "id": "a09ef660",
   "metadata": {},
   "source": [
    "<div>\n",
    "    <p style=\"font-family: 'Courier New', Courier, monospace; margin-top: 2em;\">For fun, here's a short program that will take any function and return its first derivative, integral, and graph them.</p>\n",
    "</div>"
   ]
  },
  {
   "cell_type": "code",
   "execution_count": null,
   "id": "ace3e0db",
   "metadata": {},
   "outputs": [],
   "source": [
    "from sympy import *\n",
    "import matplotlib.pyplot as plt\n",
    "import numpy as np\n",
    "\n",
    "class ComputeCalc:\n",
    "    def __init__(self, function_str, variable_str):\n",
    "        self.variable = symbols(variable_str)\n",
    "        self.function = sympify(function_str)\n",
    "    \n",
    "    def callDer(self):\n",
    "        return diff(self.function, self.variable)\n",
    "    \n",
    "    def callInt(self):\n",
    "        return integrate(self.function, self.variable)\n",
    "    \n",
    "    def plot_func(self, expr, x_range=(0.0001, 10), label=None):\n",
    "        x_vals = np.linspace(x_range[0], x_range[1], 400)\n",
    "        func = lambdify(self.variable, expr, 'numpy')\n",
    "        y_vals = func(x_vals)\n",
    "        plt.plot(x_vals, y_vals, label=label if label else str(expr))\n",
    "        plt.xlabel(\"X-Axis\")\n",
    "        plt.ylabel(\"Y-Axis\")\n",
    "        plt.title(\"Plotter\")\n",
    "        plt.grid(True)\n",
    "        plt.legend()\n",
    "        plt.show()\n",
    "\n",
    "\n",
    "func_str = input(\"Enter a function (e.g., 'log(x)-sin(x)'): \")\n",
    "\n",
    "expr = sympify(func_str)\n",
    "vars_in_expr = list(expr.free_symbols)\n",
    "\n",
    "if len(vars_in_expr) != 1:\n",
    "    raise ValueError(\"Enter a function with only one variable.\")\n",
    "\n",
    "x = vars_in_expr[0]\n",
    "calc = ComputeCalc(func_str, str(x))\n",
    "\n",
    "print(f\"The derivative of {func_str} is: {calc.callDer()}\")\n",
    "print(f\"The integral of {func_str} is: {calc.callInt()}\")\n",
    "\n",
    "calc.plot_func(calc.callDer(), label=f\"Derivative of {func_str}\")\n",
    "calc.plot_func(calc.callInt(), label=f\"Integral of {func_str}\")\n"
   ]
  }
 ],
 "metadata": {
  "kernelspec": {
   "display_name": "Python 3",
   "language": "python",
   "name": "python3"
  },
  "language_info": {
   "codemirror_mode": {
    "name": "ipython",
    "version": 3
   },
   "file_extension": ".py",
   "mimetype": "text/x-python",
   "name": "python",
   "nbconvert_exporter": "python",
   "pygments_lexer": "ipython3",
   "version": "3.13.3"
  }
 },
 "nbformat": 4,
 "nbformat_minor": 5
}
